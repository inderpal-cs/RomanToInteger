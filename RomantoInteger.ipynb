{
  "nbformat": 4,
  "nbformat_minor": 0,
  "metadata": {
    "colab": {
      "provenance": []
    },
    "kernelspec": {
      "name": "python3",
      "display_name": "Python 3"
    },
    "language_info": {
      "name": "python"
    }
  },
  "cells": [
    {
      "cell_type": "code",
      "source": [
        "#for testing purposes\n",
        "import unittest"
      ],
      "metadata": {
        "id": "D1a9eyjewyZT"
      },
      "execution_count": 1,
      "outputs": []
    },
    {
      "cell_type": "code",
      "execution_count": 9,
      "metadata": {
        "id": "IU8rdn4jwMLb"
      },
      "outputs": [],
      "source": [
        "def roman_to_integer(s):\n",
        "    roman_numerals = {'I': 1, 'V': 5, 'X': 10, 'L': 50, 'C': 100, 'D': 500, 'M': 1000}\n",
        "    result = 0\n",
        "    prev_value = 0\n",
        "\n",
        "    for char in reversed(s):\n",
        "        value = roman_numerals.get(char)\n",
        "        if value is None:\n",
        "            raise ValueError(f\"Invalid Roman numeral: {char}\")\n",
        "\n",
        "        if value < prev_value:\n",
        "            result -= value\n",
        "        else:\n",
        "            result += value\n",
        "\n",
        "        prev_value = value\n",
        "\n",
        "    return result\n"
      ]
    },
    {
      "cell_type": "code",
      "source": [
        "class TestRomanToIntegerConversion(unittest.TestCase):\n",
        "\n",
        "    def test_basic_values(self):\n",
        "        self.assertEqual(roman_to_integer(\"I\"), 1)\n",
        "        self.assertEqual(roman_to_integer(\"V\"), 5)\n",
        "        self.assertEqual(roman_to_integer(\"X\"), 10)\n",
        "\n",
        "    def test_combinations(self):\n",
        "        self.assertEqual(roman_to_integer(\"II\"), 2)\n",
        "        self.assertEqual(roman_to_integer(\"IX\"), 9)\n",
        "        self.assertEqual(roman_to_integer(\"XXI\"), 21)\n",
        "\n",
        "    def test_invalid_input(self):\n",
        "        with self.assertRaises(ValueError):\n",
        "            roman_to_integer(\"IIII\")  # Invalid Roman numeral\n",
        "        with self.assertRaises(ValueError):\n",
        "            roman_to_integer(\"ABC\")   # Invalid characters"
      ],
      "metadata": {
        "id": "DkFSihz8xAyO"
      },
      "execution_count": 3,
      "outputs": []
    },
    {
      "cell_type": "code",
      "source": [
        "if __name__ == '__main__':\n",
        "    import unittest\n",
        "    unittest.main(argv=[''], exit=False)"
      ],
      "metadata": {
        "colab": {
          "base_uri": "https://localhost:8080/"
        },
        "id": "bwyoS15TxDrp",
        "outputId": "17a325d8-b264-4391-c89c-cf68136dd7c7"
      },
      "execution_count": 10,
      "outputs": [
        {
          "output_type": "stream",
          "name": "stderr",
          "text": [
            "..F\n",
            "======================================================================\n",
            "FAIL: test_invalid_input (__main__.TestRomanToIntegerConversion)\n",
            "----------------------------------------------------------------------\n",
            "Traceback (most recent call last):\n",
            "  File \"<ipython-input-3-ab4bd657ceff>\", line 14, in test_invalid_input\n",
            "    with self.assertRaises(ValueError):\n",
            "AssertionError: ValueError not raised\n",
            "\n",
            "----------------------------------------------------------------------\n",
            "Ran 3 tests in 0.010s\n",
            "\n",
            "FAILED (failures=1)\n"
          ]
        }
      ]
    }
  ]
}